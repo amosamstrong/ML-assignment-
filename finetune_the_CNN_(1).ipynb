{
  "cells": [
    {
      "cell_type": "markdown",
      "id": "63025520",
      "metadata": {
        "id": "63025520"
      },
      "source": [
        "# Finetune the model"
      ]
    },
    {
      "cell_type": "code",
      "execution_count": null,
      "id": "c132e6e7",
      "metadata": {
        "id": "c132e6e7"
      },
      "outputs": [],
      "source": [
        "from keras.applications import VGG16\n",
        "from keras.layers import Dense, Dropout, Flatten\n",
        "from keras.models import Model\n",
        "from keras.optimizers import Adam\n",
        "from keras.preprocessing.image import ImageDataGenerator"
      ]
    },
    {
      "cell_type": "code",
      "execution_count": null,
      "id": "9df60b03",
      "metadata": {
        "id": "9df60b03"
      },
      "outputs": [],
      "source": [
        "# Set the input size of the images\n",
        "img_width, img_height = 224, 224"
      ]
    },
    {
      "cell_type": "code",
      "execution_count": null,
      "id": "c971a211",
      "metadata": {
        "id": "c971a211"
      },
      "outputs": [],
      "source": [
        "# Set the directories of the training and validation data\n",
        "train_data_dir = r\"C:\\Users\\ANIL\\Downloads\\train_val-20230423T074600Z-001\"\n",
        "val_data_dir = r\"C:\\Users\\ANIL\\Downloads\\train_val-20230423T074600Z-001\""
      ]
    },
    {
      "cell_type": "code",
      "execution_count": null,
      "id": "f7939ff2",
      "metadata": {
        "id": "f7939ff2"
      },
      "outputs": [],
      "source": [
        "# Create an instance of the VGG16 model with pre-trained weights\n",
        "base_model = VGG16(weights='imagenet', include_top=False, input_shape=(img_width, img_height, 3))"
      ]
    },
    {
      "cell_type": "code",
      "execution_count": null,
      "id": "d784706c",
      "metadata": {
        "id": "d784706c"
      },
      "outputs": [],
      "source": [
        "# Freeze the layers of the pre-trained model\n",
        "for layer in base_model.layers:\n",
        "    layer.trainable = False"
      ]
    },
    {
      "cell_type": "code",
      "execution_count": null,
      "id": "513fdbc4",
      "metadata": {
        "id": "513fdbc4"
      },
      "outputs": [],
      "source": [
        "# Add new layers to the pre-trained model\n",
        "x = base_model.output\n",
        "x = Flatten()(x)\n",
        "x = Dense(256, activation='relu')(x)\n",
        "x = Dropout(0.5)(x)\n",
        "predictions = Dense(1, activation='sigmoid')(x)"
      ]
    },
    {
      "cell_type": "code",
      "execution_count": null,
      "id": "f0dc9f60",
      "metadata": {
        "id": "f0dc9f60"
      },
      "outputs": [],
      "source": [
        "# Define the new model with the pre-trained model as its base and the new layers as its top\n",
        "model = Model(inputs=base_model.input, outputs=predictions)"
      ]
    },
    {
      "cell_type": "code",
      "execution_count": null,
      "id": "f4543bc6",
      "metadata": {
        "id": "f4543bc6"
      },
      "outputs": [],
      "source": [
        "# Compile the model with a binary crossentropy loss and an Adam optimizer\n",
        "model.compile(loss='binary_crossentropy', optimizer=Adam(lr=1e-5), metrics=['accuracy'])"
      ]
    },
    {
      "cell_type": "code",
      "execution_count": null,
      "id": "c4738cb5",
      "metadata": {
        "id": "c4738cb5"
      },
      "outputs": [],
      "source": [
        "# Set up data augmentation for the training data and validation data\n",
        "train_datagen = ImageDataGenerator(\n",
        "    rescale=1./255,\n",
        "    shear_range=0.2,\n",
        "    zoom_range=0.2,\n",
        "    horizontal_flip=True)\n",
        "\n",
        "val_datagen = ImageDataGenerator(rescale=1./255)"
      ]
    },
    {
      "cell_type": "code",
      "execution_count": null,
      "id": "ba578b8e",
      "metadata": {
        "id": "ba578b8e"
      },
      "outputs": [],
      "source": [
        "# Set the batch size\n",
        "batch_size = 16\n",
        "\n",
        "# Set the number of training and validation samples\n",
        "nb_train_samples = 1600\n",
        "nb_val_samples = 400\n",
        "\n",
        "# Set the number of epochs\n",
        "epochs = 10"
      ]
    },
    {
      "cell_type": "code",
      "execution_count": null,
      "id": "9fe22a81",
      "metadata": {
        "id": "9fe22a81",
        "outputId": "d168c654-0172-494a-c986-8e02f026c330"
      },
      "outputs": [
        {
          "name": "stdout",
          "output_type": "stream",
          "text": [
            "Found 1000 images belonging to 1 classes.\n",
            "Found 1000 images belonging to 1 classes.\n",
            "Epoch 1/10\n",
            " 63/100 [=================>............] - ETA: 5:21 - loss: 2.5303e-04 - accuracy: 1.0000WARNING:tensorflow:Your input ran out of data; interrupting training. Make sure that your dataset or generator can generate at least `steps_per_epoch * epochs` batches (in this case, 1000 batches). You may need to use the repeat() function when building your dataset.\n",
            "100/100 [==============================] - 754s 8s/step - loss: 2.5303e-04 - accuracy: 1.0000 - val_loss: 9.5617e-05 - val_accuracy: 1.0000\n"
          ]
        }
      ],
      "source": [
        "# Train the model with the data generators\n",
        "history = model.fit(\n",
        "    train_datagen.flow_from_directory(train_data_dir, target_size=(img_width, img_height), batch_size=batch_size, class_mode='binary'),\n",
        "    steps_per_epoch=nb_train_samples // batch_size,\n",
        "    epochs=epochs,\n",
        "    validation_data=val_datagen.flow_from_directory(val_data_dir, target_size=(img_width, img_height), batch_size=batch_size, class_mode='binary'),\n",
        "    validation_steps=nb_val_samples // batch_size)"
      ]
    },
    {
      "cell_type": "code",
      "execution_count": null,
      "id": "04a2d9fa",
      "metadata": {
        "id": "04a2d9fa"
      },
      "outputs": [],
      "source": [
        "# Evaluate the model on the test data\n",
        "test_datagen = ImageDataGenerator(rescale=1./255)\n",
        "test_data_dir =r\"C:\\Users\\ANIL\\Downloads\\test-20230423T074543Z-001\""
      ]
    },
    {
      "cell_type": "code",
      "execution_count": null,
      "id": "4f31c249",
      "metadata": {
        "id": "4f31c249",
        "outputId": "b1ca5184-ae13-4064-bb9b-209ac1c462a3"
      },
      "outputs": [
        {
          "name": "stdout",
          "output_type": "stream",
          "text": [
            "Found 50 images belonging to 1 classes.\n"
          ]
        }
      ],
      "source": [
        "test_generator = test_datagen.flow_from_directory(\n",
        "    test_data_dir,\n",
        "    target_size=(img_width, img_height),\n",
        "    batch_size=batch_size,\n",
        "    class_mode='binary')"
      ]
    },
    {
      "cell_type": "code",
      "execution_count": null,
      "id": "1f90238c",
      "metadata": {
        "id": "1f90238c",
        "outputId": "f2ab65fb-9f10-4147-91d8-b163e82dc688"
      },
      "outputs": [
        {
          "name": "stdout",
          "output_type": "stream",
          "text": [
            "4/4 [==============================] - 25s 6s/step - loss: 7.7675e-04 - accuracy: 1.0000\n"
          ]
        }
      ],
      "source": [
        "test_loss, test_acc = model.evaluate(test_generator, steps=len(test_generator))\n"
      ]
    },
    {
      "cell_type": "code",
      "execution_count": null,
      "id": "f79e1dad",
      "metadata": {
        "id": "f79e1dad",
        "outputId": "bf5b9828-1974-40f5-ce4c-ed7dc1849bb4"
      },
      "outputs": [
        {
          "name": "stdout",
          "output_type": "stream",
          "text": [
            "Test accuracy: 1.0\n",
            "Test loss: 0.0007767498027533293\n"
          ]
        }
      ],
      "source": [
        "print('Test accuracy:', test_acc)\n",
        "print('Test loss:', test_loss)"
      ]
    },
    {
      "cell_type": "code",
      "execution_count": null,
      "id": "11655b9c",
      "metadata": {
        "id": "11655b9c"
      },
      "outputs": [],
      "source": []
    },
    {
      "cell_type": "code",
      "execution_count": null,
      "id": "ff319678",
      "metadata": {
        "id": "ff319678"
      },
      "outputs": [],
      "source": []
    }
  ],
  "metadata": {
    "kernelspec": {
      "display_name": "Python 3 (ipykernel)",
      "language": "python",
      "name": "python3"
    },
    "language_info": {
      "codemirror_mode": {
        "name": "ipython",
        "version": 3
      },
      "file_extension": ".py",
      "mimetype": "text/x-python",
      "name": "python",
      "nbconvert_exporter": "python",
      "pygments_lexer": "ipython3",
      "version": "3.9.13"
    },
    "colab": {
      "provenance": []
    }
  },
  "nbformat": 4,
  "nbformat_minor": 5
}